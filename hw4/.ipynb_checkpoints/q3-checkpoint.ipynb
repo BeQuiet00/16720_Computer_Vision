{
 "cells": [
  {
   "cell_type": "code",
   "execution_count": 30,
   "id": "heavy-offset",
   "metadata": {
    "deletable": false,
    "editable": false,
    "nbgrader": {
     "cell_type": "code",
     "checksum": "b0f77a2caae79d1b262cbe6a16814af8",
     "grade": false,
     "grade_id": "q3-code1",
     "locked": true,
     "schema_version": 3,
     "solution": false,
     "task": false
    }
   },
   "outputs": [],
   "source": [
    "# DO NOT MODIFY\n",
    "import nbimporter\n",
    "import cv2\n",
    "\n",
    "import matplotlib.pyplot as plt\n",
    "import scipy.io as io\n",
    "import numpy as np\n",
    "\n",
    "from q2 import briefLite, briefMatch, plotMatches\n",
    "import skimage.io"
   ]
  },
  {
   "cell_type": "markdown",
   "id": "egyptian-sending",
   "metadata": {
    "deletable": false,
    "editable": false,
    "nbgrader": {
     "cell_type": "markdown",
     "checksum": "872c2a67000211f6ee78743fc74d2f27",
     "grade": false,
     "grade_id": "q3-note1",
     "locked": true,
     "schema_version": 3,
     "solution": false,
     "task": false
    }
   },
   "source": [
    "## Question 3: Homography Computation (30 pts)\n",
    "\n",
    "### 3.1 Computing the Homography (10 points)\n",
    "\n",
    "Write a function $\\texttt{computeH}$ that estimates the planar homography from a set of matched point pairs.\n",
    "\n",
    "$$\\begin{equation}\n",
    "\\texttt{function [H2to1] = computeH(p1, p2)}\n",
    "\\end{equation}$$\n",
    "\n",
    "$\\texttt{p1}$ and $\\texttt{p2}$ are $2\\times N$ matrices containing the coordinates $(x, y)$ of point pairs between the two images. $\\texttt{H2to1}$ should be a $3\\times 3$ matrix for the best homography from image 2 to image 1 in the least-square sense. This should follow from your matrix as derived in **Q 1.2**. For the solver, feel free to use whatever you like. Although the [svdnotes]() (SVD notes in at the end of this handout) are one of the more straightforward methods."
   ]
  },
  {
   "cell_type": "code",
   "execution_count": 31,
   "id": "ac525b89",
   "metadata": {},
   "outputs": [],
   "source": [
    "# %run q2.ipynb"
   ]
  },
  {
   "cell_type": "code",
   "execution_count": 32,
   "id": "successful-premiere",
   "metadata": {
    "deletable": false,
    "nbgrader": {
     "cell_type": "code",
     "checksum": "7238ebb6411b831b03c9191c9ad717a2",
     "grade": false,
     "grade_id": "q3-code2",
     "locked": false,
     "schema_version": 3,
     "solution": true,
     "task": false
    }
   },
   "outputs": [],
   "source": [
    "def computeH(p1, p2):\n",
    "    \"\"\"\n",
    "    Compute the homography matrix from point correspondences.\n",
    "    \n",
    "    INPUTS:\n",
    "        p1 and p2 - Each are size (2 x N) matrices of corresponding (x, y)'  \n",
    "                 coordinates between two images\n",
    "    OUTPUTS:\n",
    "     H2to1 - a 3 x 3 matrix encoding the homography that best matches the linear \n",
    "            equation\n",
    "    \"\"\"\n",
    "    # Comment following two lines when submit to autograder. Autograder bug.\n",
    "    # assert p1.shape[1] == p2.shape[1]\n",
    "    # assert p1.shape[0] == 2\n",
    "    # YOUR CODE HERE\n",
    "\n",
    "    num_pts = p1.shape[1]\n",
    "    A = np.zeros((2*num_pts, 9))\n",
    "\n",
    "    X, Y = p1[0, :].reshape(-1, 1), p1[1, :].reshape(-1,1)\n",
    "    U, V = p2[0, :].reshape(-1, 1), p2[1, :].reshape(-1,1)\n",
    "\n",
    "    A[::2] = np.hstack((-U, -V, -np.ones((num_pts, 1)), np.zeros((num_pts, 1)), np.zeros((num_pts, 1)), np.zeros((num_pts, 1)), U*X, V*X, X))\n",
    "    A[1::2] = np.hstack((np.zeros((num_pts, 1)), np.zeros((num_pts, 1)), np.zeros((num_pts, 1)), -U, -V, -np.ones((num_pts, 1)), U*Y, V*Y, Y))\n",
    "\n",
    "    eigen_vals, eigen_vecs = np.linalg.eigh(np.dot(A.T, A)) \n",
    "    H2to1 = eigen_vecs[:, 0].reshape((3, 3))\n",
    "\n",
    "    # raise NotImplementedError()\n",
    "    return H2to1/H2to1[2, 2]"
   ]
  },
  {
   "cell_type": "code",
   "execution_count": 33,
   "id": "8945bd32",
   "metadata": {},
   "outputs": [],
   "source": [
    "def computeH2(x1, x2):\n",
    "    # Q2.2.1\n",
    "    # Compute the homography between two sets of points\n",
    "    A = np.empty(shape=(0, 9))\n",
    "    N = x1.shape[1]\n",
    "    for i in range(N):\n",
    "        row1 = np.array([x2[0, i], x2[1, i], 1, 0, 0, 0, -x1[0, i] * x2[0, i], -x1[0, i] * x2[1, i], -x1[0, i]])\n",
    "        row2 = np.array([0, 0, 0, x2[0, i], x2[1, i], 1, -x2[0, i] * x1[1, i], -x1[1, i] * x2[1, i], -x1[1, i]])\n",
    "        A = np.vstack((A, row1))\n",
    "        A = np.vstack((A, row2))\n",
    "\n",
    "    u, s, vh = np.linalg.svd(A)\n",
    "    H2to1 = np.reshape(vh[8], (3, 3))\n",
    "    # H2to1 = H2to1/H2to1[2, 2]\n",
    "\n",
    "    return H2to1"
   ]
  },
  {
   "cell_type": "code",
   "execution_count": 34,
   "id": "naked-documentation",
   "metadata": {
    "deletable": false,
    "editable": false,
    "nbgrader": {
     "cell_type": "code",
     "checksum": "d9eff761fef7004ed59e6d17f2aa2323",
     "grade": true,
     "grade_id": "q3_1",
     "locked": true,
     "points": 10,
     "schema_version": 3,
     "solution": false,
     "task": false
    }
   },
   "outputs": [],
   "source": [
    "### HIDDEN TEST CELL\n",
    "# Hint: Be careful that your homography matrix should be a mapping from\n",
    "# p2 to p1: p1 = H*P2\n",
    "im1 = cv2.imread(\"data/incline_L.png\")\n",
    "im2 = cv2.imread(\"data/incline_R.png\")"
   ]
  },
  {
   "cell_type": "markdown",
   "id": "brazilian-damages",
   "metadata": {
    "deletable": false,
    "editable": false,
    "nbgrader": {
     "cell_type": "markdown",
     "checksum": "87eaa423b4050e5dfe0860614ff82d1a",
     "grade": false,
     "grade_id": "q3-note2",
     "locked": true,
     "schema_version": 3,
     "solution": false,
     "task": false
    }
   },
   "source": [
    "### 3.2 RANSAC (10 points)\n",
    "\n",
    "The RANSAC algorithm can generally fit any model to noisy data. You will implement it for (planar) homographies between images.\n",
    "\n",
    "Write a function:\n",
    "\n",
    "$$\\begin{equation}\n",
    "\\texttt{function [bestH2to1, inliers] = computeH\\_ransac(locs1, locs2)}\n",
    "\\end{equation}$$\n",
    "\n",
    "where $\\texttt{bestH2to1}$ should be the homography $\\mathbf{H}$ with most inliers found during RANSAC.  $\\mathbf{H}$ will be a homography such that if $\\mathbf{p}_2$ is a point in $\\texttt{locs2}$ and  $\\mathbf{p}_1$ is the corresponding point in $\\texttt{locs1}$, then $\\mathbf{p}_1 \\equiv \\mathbf{Hp}_2$. $\\texttt{locs1}$ and $\\texttt{locs2}$ are $N\\times 2$ matrices containing the matched points. $\\texttt{inliers}$ is a vector of length $N$ with a 1 at those matches that are part of the consensus set, and 0 elsewhere."
   ]
  },
  {
   "cell_type": "code",
   "execution_count": 35,
   "id": "governing-infrastructure",
   "metadata": {
    "deletable": false,
    "nbgrader": {
     "cell_type": "code",
     "checksum": "6b94870760b906217cfc5493765f6f6d",
     "grade": false,
     "grade_id": "q2-code3",
     "locked": false,
     "schema_version": 3,
     "solution": true,
     "task": false
    }
   },
   "outputs": [],
   "source": [
    "def computeH_ransac(matches, locs1, locs2, num_iter=5000, tol=2):\n",
    "    \"\"\"\n",
    "    Returns the best homography by computing the best set of matches using RANSAC.\n",
    "    \n",
    "    INPUTS\n",
    "        matches - matrix specifying matches between these two sets of point locations\n",
    "        locs1 and locs2 - matrices specifying point locations in each of the images\n",
    "        num_iter - number of iterations to run RANSAC\n",
    "        tol - tolerance value for considering a point to be an inlier\n",
    "\n",
    "    OUTPUTS\n",
    "        bestH2to1 - homography matrix with the most inliers found during RANSAC\n",
    "        inliers - a vector of length N (len(matches)) with 1 at the those matches\n",
    "                  that are part of the consensus set, and 0 elsewhere.\n",
    "    \"\"\"\n",
    "    p1 = locs1[matches[:, 0], :2]\n",
    "    p1 = np.transpose(p1)\n",
    "    p2 = locs2[matches[:, 1], :2]\n",
    "    p2 = np.transpose(p2)\n",
    "    p2_homo = np.concatenate((p2, np.ones([1, p2.shape[1]])), axis=0)\n",
    "    \n",
    "    # Hint: For each iteration, sample 4 point pairs for solving H using \"computeH()\".\n",
    "    # Then, compute the number of inliers using the threshold. Finally, pick the H with\n",
    "    # the most inliers.\n",
    "    # Note: Please don't fix the random seed.  We need to use different random seeds to\n",
    "    # validate your implementation.\n",
    "    # YOUR CODE HERE\n",
    "\n",
    "    max_inlier = 0\n",
    "    inliers = []\n",
    "    inliers_p1 = 0\n",
    "    inliers_p2 = 0\n",
    "\n",
    "    for i in range(num_iter):\n",
    "        idx = np.random.choice(np.arange(p1.shape[1]), 4)\n",
    "        p1_ = p1[:, idx]\n",
    "        p2_ = p2[:, idx]\n",
    "        H = computeH(p1_, p2_)\n",
    "\n",
    "        p1_homo = np.vstack((p1, np.ones(p1.shape[1])))\n",
    "        p2_homo = np.vstack((p2, np.ones(p2.shape[1])))\n",
    "        H_p2 = np.dot(H, p2_homo)\n",
    "\n",
    "        H_p2[0, :] = H_p2[0, :]/H_p2[2, :]\n",
    "        H_p2[1, :] = H_p2[1, :]/H_p2[2, :]\n",
    "\n",
    "        dist = np.sqrt((H_p2[0, :]-p1_homo[0, :])**2+(H_p2[1, :]-p1_homo[1, :])**2)\n",
    "        num_inliers = np.where(dist <= tol)[0].shape[0]\n",
    "        inliers.append(num_inliers)\n",
    "\n",
    "        if (num_inliers > max_inlier):\n",
    "            max_inlier = num_inliers\n",
    "            inliers_p1 = p1[:, np.where(dist < tol)[0]]\n",
    "            inliers_p2 = p2[:, np.where(dist < tol)[0]]\n",
    "\n",
    "    bestH2to1 = computeH(inliers_p1, inliers_p2)\n",
    "    # print(inliers)\n",
    "\n",
    "    # raise NotImplementedError()\n",
    "    return bestH2to1, inliers"
   ]
  },
  {
   "cell_type": "code",
   "execution_count": 36,
   "id": "acceptable-publication",
   "metadata": {
    "deletable": false,
    "editable": false,
    "nbgrader": {
     "cell_type": "code",
     "checksum": "23f41d61b82391a5dbb8d4d8fc72a8f5",
     "grade": true,
     "grade_id": "q3_2",
     "locked": true,
     "points": 10,
     "schema_version": 3,
     "solution": false,
     "task": false
    }
   },
   "outputs": [],
   "source": [
    "### HIDDEN TEST CELL\n",
    "# Hint: When the number of iteration is small (e.g. 10), ideally, the number of inliers\n",
    "# should not be always the same if you call \"computeH_ransac()\" several times.\n",
    "im1 = cv2.imread(\"data/incline_L.png\")\n",
    "im2 = cv2.imread(\"data/incline_R.png\")"
   ]
  },
  {
   "cell_type": "markdown",
   "id": "filled-sterling",
   "metadata": {
    "deletable": false,
    "editable": false,
    "nbgrader": {
     "cell_type": "markdown",
     "checksum": "a69d699563e6b61480ef600b80808b43",
     "grade": false,
     "grade_id": "q3-note3",
     "locked": true,
     "schema_version": 3,
     "solution": false,
     "task": false
    }
   },
   "source": [
    "### 3.3 Automated Homography Estimation/Warping for Augmented Reality (10 points)\n",
    "\n",
    "Implement the following steps: \n",
    "   1. Reads $\\texttt{cv\\_cover.jpg}$, $\\texttt{cv\\_desk.png}$, and $\\texttt{hp\\_cover.jpg}$ from the \"figure/\" folder.\n",
    "   2. Computes a homography automatically using $\\texttt{computeH\\_ransac}$.\n",
    "   3. Warps $\\texttt{hp\\_cover.jpg}$ to the dimensions of the $\\texttt{cv\\_desk.png}$ image using the OpenCV $\\texttt{warpPerspective}$ function. \n",
    "   4. At this point you should notice that although the image is being warped to the correct location, it is not filling up the same space as the book. Why do you think this is happening? How would you modify $\\texttt{hp\\_cover.jpg}$ to fix this issue?\n",
    "   5. Implement the function: $\\texttt{function [ composite\\_img ] = compositeH( H2to1, template, img) }$ to now compose this warped image with the desk image as in the following figures.\n",
    "   6. **The question will be manually graded.** Include your resulting image in your write-up. Please also print the final H matrix in your writeup (normalized so the bottom right value is 1)\n",
    "   \n",
    "|<img align=\"center\" src=\"figure/cv_desk.png\" width=\"300\"> | <img align=\"center\" src=\"figure/hp_cover.jpg\" width=\"150\"> | <img align=\"center\" src=\"figure/hp_desk.png\" width=\"300\">|\n",
    "|:--:|:--:|:--:|\n",
    "|(a) Text book.| (b) Harry Potter cover.| (c) HarryPotterized Text book|\n",
    "|| Fig 3.1 Warping for augmented reality. | |\n"
   ]
  },
  {
   "cell_type": "code",
   "execution_count": 37,
   "id": "armed-guidance",
   "metadata": {
    "deletable": false,
    "nbgrader": {
     "cell_type": "code",
     "checksum": "b9dfb0d0359aee7c5091596a56c06782",
     "grade": false,
     "grade_id": "q3-code4",
     "locked": false,
     "schema_version": 3,
     "solution": true,
     "task": false
    }
   },
   "outputs": [],
   "source": [
    "def compositeH(H, template, img):\n",
    "    \"\"\"\n",
    "    Returns the composite image.\n",
    "    \n",
    "    INPUTS\n",
    "        H - homography matrix [3x3]\n",
    "        img - background image\n",
    "        template - template image to be warped\n",
    "\n",
    "    OUTPUTS\n",
    "        composite_img - composite image\n",
    "    \"\"\"\n",
    "\n",
    "    # ===============\n",
    "    # Hint: Create a composite image after warping the template image on top\n",
    "    # of the image using the homography\n",
    "\n",
    "    # Note that the homography we compute is from the image to the template;\n",
    "    # x_template = H2to1*x_photo\n",
    "    # For warping the template to the image, we need to invert it.\n",
    "    # ===============\n",
    "\n",
    "    # YOUR CODE HERE\n",
    "\n",
    "    warp_img = cv2.warpPerspective(img, H, (template.shape[1], template.shape[0]))\n",
    "    warp_mask = warp_img > 0\n",
    "\n",
    "    composite_img = template * np.logical_not(warp_mask)\n",
    "    composite_img = composite_img + warp_img\n",
    "\n",
    "    # raise NotImplementedError()\n",
    "    return composite_img.astype(np.uint8)"
   ]
  },
  {
   "cell_type": "code",
   "execution_count": 38,
   "id": "eaf2f3ff",
   "metadata": {},
   "outputs": [
    {
     "name": "stdout",
     "output_type": "stream",
     "text": [
      "(16, 2)\n"
     ]
    },
    {
     "data": {
      "image/png": "[encoded data removed]",
      "text/plain": [
       "<Figure size 432x288 with 1 Axes>"
      ]
     },
     "metadata": {
      "needs_background": "light"
     },
     "output_type": "display_data"
    },
    {
     "name": "stdout",
     "output_type": "stream",
     "text": [
      "[[ 7.15081788e-01 -3.62240196e-01  2.43096095e+02]\n",
      " [-1.66769611e-02  1.91503617e-01  1.99520018e+02]\n",
      " [-2.43469884e-05 -9.56431843e-04  1.00000000e+00]]\n",
      "12\n"
     ]
    },
    {
     "data": {
      "text/plain": [
       "True"
      ]
     },
     "execution_count": 38,
     "metadata": {},
     "output_type": "execute_result"
    }
   ],
   "source": [
    "im1 = cv2.imread(\"figure/cv_desk.png\")\n",
    "im2 = cv2.imread(\"figure/cv_cover.jpg\")\n",
    "im3 = cv2.imread(\"figure/hp_cover.jpg\")\n",
    "\n",
    "im1_gray = skimage.color.rgb2gray(im1)\n",
    "im2_gray = skimage.color.rgb2gray(im2)\n",
    "im3_gray = skimage.color.rgb2gray(im3)\n",
    "\n",
    "locs1, desc1 = briefLite(im1_gray)\n",
    "locs2, desc2 = briefLite(im2_gray)\n",
    "matches = briefMatch(desc1, desc2)\n",
    "print(matches.shape)\n",
    "\n",
    "im3 = cv2.resize(im3, (im2.shape[1], im2.shape[0]), interpolation=cv2.INTER_AREA)\n",
    "\n",
    "plotMatches(im1, im2, matches, locs1, locs2)\n",
    "\n",
    "locs1[:, [0, 1]] = locs1[:, [1, 0]]\n",
    "locs2[:, [0, 1]] = locs2[:, [1, 0]]\n",
    "\n",
    "H, inliers = computeH_ransac(matches, locs1, locs2, num_iter=5000, tol=2)\n",
    "print(H)\n",
    "print(np.max(inliers))\n",
    "\n",
    "\n",
    "composite_img = compositeH(H, im1, im3)\n",
    "cv2.imwrite(\"figure/hp_desk_5000_2.jpg\", composite_img)"
   ]
  },
  {
   "cell_type": "markdown",
   "id": "right-royal",
   "metadata": {
    "deletable": false,
    "editable": false,
    "nbgrader": {
     "cell_type": "markdown",
     "checksum": "496a6f3ee7ce6def6cddce578b6b48eb",
     "grade": false,
     "grade_id": "q3-note4",
     "locked": true,
     "schema_version": 3,
     "solution": false,
     "task": false
    }
   },
   "source": [
    "### SVD Notes\n",
    "\n",
    "The Singular Value Decomposition (SVD) of a matrix $\\textbf{A}$ is expressed as:\n",
    "\\begin{equation*}\n",
    "\\mathbf{A} = U\\Sigma V^T\n",
    "\\end{equation*}\n",
    "Here, $U$ is a matrix of column vectors called the \"left singular vectors\". Similarly, $V$ is called the \"right singular vectors\". The matrix $\\Sigma$ is a diagonal matrix. Each diagonal element $\\sigma_i$ is called the \"singular value\" and these are sorted in order of magnitude. In our case, it is a $9\\times9$ matrix.\n",
    "\n",
    "   * If $\\sigma_9 = 0$, the system is _exactly-determined_, a homography exists and all points fit exactly.\n",
    "   * If $\\sigma_9 \\ge 0$, the system is _over-determined_. A homography exists but not all points fit exactly (they fit in the least-squares error sense). This value represents the goodness of fit.\n",
    "   * Usually, you will have at least four correspondences. If not, the system is _under-determined_. We will not deal with those here.\n",
    "\n",
    "The columns of $U$ are eigenvectors of $\\mathbf{AA}^T$. The columns of $V$ are the eigenvectors of $\\mathbf{A}^T\\mathbf{A}$. We can use this fact to solve for **h** in the equation **Ah = 0**.\n",
    "Using this knowledge, let us reformulate our problem of solving $\\mathbf{Ax} = \\mathbf{0}$. We want to minimize the error in solution in the least-squares sense. Ideally, the product $\\mathbf{Ah}$ should be 0. Thus the sum-squared error can be written as:\n",
    "\n",
    "\\begin{equation}\n",
    "f(\\mathbf{h}) = \\frac{1}{2}(\\mathbf{Ah} - \\mathbf{0})^{T}(\\mathbf{Ah} - \\mathbf{0})\\\\\n",
    "              = \\frac{1}{2}(\\mathbf{Ah})^{T} (\\mathbf{Ah})\\\\\n",
    "              = \\frac{1}{2}\\mathbf{h}^T\\mathbf{A}^T\\mathbf{A}\\mathbf{h}\n",
    "\\end{equation}\n",
    "\n",
    "Minimizing this error with respect to **h**, we get:\n",
    "\n",
    "\\begin{equation}\n",
    "\\frac{d}{d\\mathbf{h}}f = 0\\\\\n",
    "\\implies \\frac{1}{2}(\\mathbf{A}^T\\mathbf{A} + (\\mathbf{A}^T\\mathbf{A})^T)\\mathbf{h} = 0\\\\\n",
    "\\mathbf{A}^T\\mathbf{Ah} = 0\n",
    "\\end{equation}\n",
    "\n",
    "This implies that the value of **h** equals the eigenvector corresponding to the zero eigenvalue (or closest to zero in case of noise). Thus, we choose the smallest eigenvalue of $\\mathbf{A}^T\\mathbf{A}$, which is $\\sigma_9$ in $\\Sigma$ and the least-squares solution to **Ah = 0** is the the corresponding eigenvector (in column 9 of the matrix **V**)."
   ]
  }
 ],
 "metadata": {
  "interpreter": {
   "hash": "4fdb81c697d336654948cea51248952f7cc5dd7420718d1ad5c944155ffcba4f"
  },
  "kernelspec": {
   "display_name": "Python 3",
   "language": "python",
   "name": "python3"
  },
  "language_info": {
   "codemirror_mode": {
    "name": "ipython",
    "version": 3
   },
   "file_extension": ".py",
   "mimetype": "text/x-python",
   "name": "python",
   "nbconvert_exporter": "python",
   "pygments_lexer": "ipython3",
   "version": "3.8.8"
  }
 },
 "nbformat": 4,
 "nbformat_minor": 5
}
