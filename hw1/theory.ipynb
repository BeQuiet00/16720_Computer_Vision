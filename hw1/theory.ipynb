{
 "cells": [
  {
   "cell_type": "code",
   "execution_count": null,
   "metadata": {},
   "outputs": [],
   "source": []
  },
  {
   "cell_type": "markdown",
   "metadata": {
    "deletable": false,
    "editable": false,
    "nbgrader": {
     "cell_type": "markdown",
     "checksum": "88368d998ae6f13b66528ed7450a5e6c",
     "grade": false,
     "grade_id": "header",
     "locked": true,
     "schema_version": 3,
     "solution": false,
     "task": false
    }
   },
   "source": [
    "<img align=\"center\" src=\"data/handout/course.png\" width=\"800\">\n",
    "\n",
    "## Hough Transform - Assignment 1\n",
    "    Instructor: Kris                          TAs: Rawal (Lead), Yan, Zen, Wen-Hsuan, Paritosh, Qichen\n",
    "\n",
    "In this assignment you will be implementing a Hough Transform based line detector. \n",
    "\n",
    "<img align=\"center\" src=\"data/handout/ht.gif\" width=\"500\">"
   ]
  },
  {
   "cell_type": "markdown",
   "metadata": {
    "deletable": false,
    "editable": false,
    "nbgrader": {
     "cell_type": "markdown",
     "checksum": "e7774173427921d9605c9d2d8c92b534",
     "grade": false,
     "grade_id": "cell-ee45598a54db40ca",
     "locked": true,
     "schema_version": 3,
     "solution": false,
     "task": false
    }
   },
   "source": [
    "---\n",
    "## Theory Questions (25 points)\n",
    "**Grading**: \n",
    "- Each question is 5 points. \n",
    "- Please add your answers to the writeup. Insert images whenever necessary.\n",
    "- Show all your work to obtain full credit."
   ]
  },
  {
   "cell_type": "markdown",
   "metadata": {
    "deletable": false,
    "editable": false,
    "nbgrader": {
     "cell_type": "markdown",
     "checksum": "6d8a7b9a156280b230e157fb68b81da1",
     "grade": false,
     "grade_id": "theory_q1",
     "locked": true,
     "schema_version": 3,
     "solution": false,
     "task": false
    }
   },
   "source": [
    "**Q1**: Show that using $ x\\cos \\theta + y \\sin \\theta - \\rho = 0 $, each image point $(x, y)$ results in a sinsuoid in $(\\rho, \\theta)$ hough space.  \n",
    "Use the formulation, $a \\sin \\theta + b \\cos \\theta = A \\sin(\\theta + \\phi)$ for the sinsuoid.  \n",
    "Write the amplitude \\\\(A \\\\) and phase \\\\( \\phi \\\\) of the sinusoid as a function of \\\\( (x, y) \\\\). "
   ]
  },
  {
   "cell_type": "markdown",
   "metadata": {
    "deletable": false,
    "nbgrader": {
     "cell_type": "markdown",
     "checksum": "b2fff622dd362c71d4a7709f51ac1b55",
     "grade": true,
     "grade_id": "theory_q1_ans",
     "locked": false,
     "points": 5,
     "schema_version": 3,
     "solution": true,
     "task": false
    }
   },
   "source": [
    "With $ x\\cos \\theta + y \\sin \\theta = \\rho $, the image point $(x, y)$ represents a sinuoid relative to \\theta in the Hough space. \\\n",
    "$A = \\sqrt(a^2 + b^2)$. \\\n",
    "$\\phi = \\arctan(b / a)$ "
   ]
  },
  {
   "cell_type": "markdown",
   "metadata": {
    "deletable": false,
    "editable": false,
    "nbgrader": {
     "cell_type": "markdown",
     "checksum": "8f1899fd8b2e4e3dd9079c2447eed607",
     "grade": false,
     "grade_id": "theory_q2",
     "locked": true,
     "schema_version": 3,
     "solution": false,
     "task": false
    }
   },
   "source": [
    "**Q2**: Why do we parameterize the line in terms of \\\\(\\rho, \\theta\\\\) instead of slope and intercept \\\\((m, c)\\\\)?  \n",
    "Also write the slope \\\\(m\\\\) and intercept \\\\(c\\\\) as a function of \\\\(\\rho\\\\) and \\\\(\\theta\\\\). "
   ]
  },
  {
   "cell_type": "markdown",
   "metadata": {
    "deletable": false,
    "nbgrader": {
     "cell_type": "markdown",
     "checksum": "55f8ec0f1a1d3026da42762e3309b17e",
     "grade": true,
     "grade_id": "theory_q2_ans",
     "locked": false,
     "points": 5,
     "schema_version": 3,
     "solution": true,
     "task": false
    }
   },
   "source": [
    "With slope and intercept $(m, c)$, it will result in infinite space in the Hough space. \\\n",
    "$m = - \\cos(\\theta)/\\sin(\\theta)$ \\\n",
    "$\\theta = \\rho/\\sin(\\theta)$"
   ]
  },
  {
   "cell_type": "markdown",
   "metadata": {
    "deletable": false,
    "editable": false,
    "nbgrader": {
     "cell_type": "markdown",
     "checksum": "576d611c2a9de50619a0596b22673783",
     "grade": false,
     "grade_id": "theory_q3",
     "locked": true,
     "schema_version": 3,
     "solution": false,
     "task": false
    }
   },
   "source": [
    "**Q3**: Assume the image points \\\\((x, y)\\\\) are in an image of width \\\\(W\\\\) and height \\\\(H\\\\), \\\\(x \\in [1, W], y \\in [1, H]\\\\).  \n",
    "What is the maximum absolute value of \\\\(\\rho\\\\) and what is the range of \\\\(\\theta\\\\)?"
   ]
  },
  {
   "cell_type": "markdown",
   "metadata": {
    "deletable": false,
    "nbgrader": {
     "cell_type": "markdown",
     "checksum": "57ae4a7360308f9ea4ffde5d34fa0a3e",
     "grade": true,
     "grade_id": "theory_q3_ans",
     "locked": false,
     "points": 5,
     "schema_version": 3,
     "solution": true,
     "task": false
    }
   },
   "source": [
    "The maximun absolute value of $\\rho$ is the diagonal length of the image.\\\n",
    "$\\rho = \\sqrt(W^2 + H^2)$ \\\n",
    "The range of \\theta is 0 to 360 in degree or 0 to 2 \\pi in radius. "
   ]
  },
  {
   "cell_type": "markdown",
   "metadata": {
    "deletable": false,
    "editable": false,
    "nbgrader": {
     "cell_type": "markdown",
     "checksum": "c504a8b632334522118747924e9e249e",
     "grade": false,
     "grade_id": "theory_q4",
     "locked": true,
     "schema_version": 3,
     "solution": false,
     "task": false
    }
   },
   "source": [
    "**Q4**: For points $(10, 10)$, $(15, 15)$ and $(30, 30)$ in the image, plot the corresponding sinusoid waves in Hough space $(\\rho, \\theta)$.  \n",
    "Also visualize how their intersection point defines the line (what is ($m, c$) for this line?).  \n",
    "Please add the plot as image."
   ]
  },
  {
   "attachments": {
    "492b2c67-8083-4b19-bd30-f6108acd37c2.png": {
     "image/png": "[encoded data removed]"
    }
   },
   "cell_type": "markdown",
   "metadata": {
    "deletable": false,
    "nbgrader": {
     "cell_type": "markdown",
     "checksum": "a5145d792542757d2b951105d48cbbcb",
     "grade": true,
     "grade_id": "theory_q4_ans",
     "locked": false,
     "points": 5,
     "schema_version": 3,
     "solution": true,
     "task": false
    }
   },
   "source": [
    "![Screen Shot 2021-09-24 at 9.58.03 PM.png](attachment:492b2c67-8083-4b19-bd30-f6108acd37c2.png)"
   ]
  },
  {
   "attachments": {
    "866f9c8e-5516-4d5c-afba-47018960f2e0.png": {
     "image/png": "[encoded data removed]"
    }
   },
   "cell_type": "markdown",
   "metadata": {},
   "source": [
    "![Screen Shot 2021-09-24 at 10.03.21 PM.png](attachment:866f9c8e-5516-4d5c-afba-47018960f2e0.png)"
   ]
  },
  {
   "cell_type": "markdown",
   "metadata": {},
   "source": [
    "$m = 1$ and $c = 0$"
   ]
  },
  {
   "cell_type": "markdown",
   "metadata": {
    "deletable": false,
    "editable": false,
    "nbgrader": {
     "cell_type": "markdown",
     "checksum": "5cc16b8a2cb6668755507b6b2a4df324",
     "grade": false,
     "grade_id": "theory_q5",
     "locked": true,
     "schema_version": 3,
     "solution": false,
     "task": false
    }
   },
   "source": [
    "**Q5**: How does the dimension of parameter space affects Hough Transform method? What would you do when the parameter space is high, i.e., 3D or 4D instead of 2D? Briefly explain your method."
   ]
  },
  {
   "cell_type": "markdown",
   "metadata": {
    "deletable": false,
    "nbgrader": {
     "cell_type": "markdown",
     "checksum": "8c8bb0c0b11471122110f0a30f039b46",
     "grade": true,
     "grade_id": "theory_q5_ans",
     "locked": false,
     "points": 5,
     "schema_version": 3,
     "solution": true,
     "task": false
    }
   },
   "source": [
    "A 3D \"image\" will result in 3 dimension of parameter space in Hough Transform. Then a point in the 3D image will become a plane in the Hough space and a intersection point in the Hough point represents a plane in the 3D \"image\"."
   ]
  }
 ],
 "metadata": {
  "kernelspec": {
   "display_name": "Python 3",
   "language": "python",
   "name": "python3"
  },
  "language_info": {
   "codemirror_mode": {
    "name": "ipython",
    "version": 3
   },
   "file_extension": ".py",
   "mimetype": "text/x-python",
   "name": "python",
   "nbconvert_exporter": "python",
   "pygments_lexer": "ipython3",
   "version": "3.8.5"
  },
  "toc": {
   "base_numbering": 1,
   "nav_menu": {},
   "number_sections": true,
   "sideBar": true,
   "skip_h1_title": false,
   "title_cell": "Table of Contents",
   "title_sidebar": "Contents",
   "toc_cell": false,
   "toc_position": {
    "height": "calc(100% - 180px)",
    "left": "10px",
    "top": "150px",
    "width": "384px"
   },
   "toc_section_display": true,
   "toc_window_display": true
  }
 },
 "nbformat": 4,
 "nbformat_minor": 4
}
