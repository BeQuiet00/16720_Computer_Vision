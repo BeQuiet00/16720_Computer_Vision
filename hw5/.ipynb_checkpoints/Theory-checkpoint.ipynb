{
 "cells": [
  {
   "cell_type": "code",
   "execution_count": null,
   "metadata": {},
   "outputs": [],
   "source": []
  },
  {
   "cell_type": "markdown",
   "metadata": {
    "deletable": false,
    "editable": false,
    "nbgrader": {
     "cell_type": "markdown",
     "checksum": "baa52b722dc3cba90385d3d0ded47dbc",
     "grade": false,
     "grade_id": "cell-b2250668e6fbbab8",
     "locked": true,
     "schema_version": 3,
     "solution": false,
     "task": false
    }
   },
   "source": [
    "<img align=\"center\" src=\"images/course.png\" width=\"800\">"
   ]
  },
  {
   "cell_type": "markdown",
   "metadata": {},
   "source": [
    "# 16720 (B)  3D Reconstruction - Assignment 5\n",
    "    Instructor: Kris                          TAs: Zen (Lead), Yan, Rawal, Wen-Hsuan, Paritosh, Qichen\n",
    "\n",
    "# Instructions\n",
    "\n",
    "This section should include the visualizations and answers to specifically highlighted questions from P1 to P4. This section will need to be uploaded to gradescope as a pdf and manually graded (this is a separate submission from the coding notebooks).\n",
    "\n",
    "\n",
    "1. Students are encouraged to work in groups but each student must submit their own work. Include the names of your collaborators in your write up. Code should <span style='color:red'>Not</span>  be shared or copied. Please properly give credits to others by <span style='color:red'>LISTING EVERY COLLABORATOR</span> in the writeup including any code segments that you discussed,  Please <span style='color:red'>DO NOT</span>  use external code unless permitted. Plagiarism is prohibited and may lead to failure of this course.\n",
    "\n",
    "2.  **Start early!** This homework will take a long time to complete.\n",
    "    \n",
    "3. **Questions:** If you have any question, please look at Piazza first and the FAQ page for this homework.\n",
    "\n",
    "4. All the theory question and manually graded questions should be included in a single writeup (this notebook exported as pdf or a standalone pdf file) and submitted to gradescope: pdf assignment. \n",
    "\n",
    "5. **Attempt to verify your implementation as you proceed:** If you don’t verify that your implementation is correct on toy examples, you will risk having a huge issue when you put everything together. We provide some simple checks in the notebook cells, but make sure you verify them on more complicated samples before moving forward. \n",
    "\n",
    "6. **Do not import external functions/packages other than the ones already imported in the files:** The current imported functions and packages are enough for you to complete this assignment. If you need to import other functions, please remember to comment them out after submission. Our autograder will crash if you import a new function that the gradescope server does not expect. \n",
    "\n",
    "7. Assignments that do not follow this submission rule will be **penalized up to 10\\% of the total score**.\n"
   ]
  },
  {
   "cell_type": "markdown",
   "metadata": {
    "deletable": false,
    "editable": false,
    "nbgrader": {
     "cell_type": "markdown",
     "checksum": "5a10be777f18b8270699d9bcd3f50917",
     "grade": false,
     "grade_id": "cell-1b45fd1c3c38945a",
     "locked": true,
     "schema_version": 3,
     "solution": false,
     "task": false
    }
   },
   "source": [
    "# Theory Questions (25 pts)\n",
    "\n",
    "Before implementing our own 3D reconstruction, let's take a  look at some simple theory questions that may arise. The answers to the below questions should be relatively short, consisting of a few lines of math and text (maybe a diagram if it helps your understanding).  \n",
    "\n",
    "<img align=\"center\" src=\"images/drawing-1.png\" width=\"800\">\n",
    "<center> <figcaption align=\"center\"><b>Figure1. Figure for Q1.1. $C1$ and $C2$ are the optical centers. The principal axes intersect at point $\\textbf{w}$ ($P$ in the figure).</b></figcaption> </center>\n",
    "\n",
    "\n",
    "\n",
    "\n",
    "## Q1.1\n",
    "Suppose two cameras fixated on a point $x$ (see Figure 1) in space such that their principal axes intersect at the  point $P$. Show that if the image coordinates are normalized so that the coordinate origin $(0, 0)$\n",
    "coincides with the principal point, the $\\textbf{F}_{33}$ element of the fundamental matrix is zero."
   ]
  },
  {
   "cell_type": "markdown",
   "metadata": {
    "deletable": false,
    "nbgrader": {
     "cell_type": "markdown",
     "checksum": "230c80f93cd50124cc51aaf2cce6cf60",
     "grade": true,
     "grade_id": "cell-ddb4d1f50ebcaec0",
     "locked": false,
     "points": 5,
     "schema_version": 3,
     "solution": true,
     "task": false
    }
   },
   "source": [
    "Since $x_2^T F x_1 = 0$,\n",
    "\n",
    "and x_1 and x_2 are at the coordinate origin,\n",
    "\n",
    "we have,\n",
    "\n",
    "$$\n",
    "\\begin{pmatrix}\n",
    "0 & 0 & 1\n",
    "\\end{pmatrix}\n",
    "\n",
    "\\begin{pmatrix}\n",
    "f11 & f12 & f13 \\\\\n",
    "f21 & f22 & f32 \\\\\n",
    "f31 & f32 & f33 \\\\\n",
    "\\end{pmatrix}\n",
    "\n",
    "\\begin{pmatrix}\n",
    "0 & 0 & 1 \\\\\n",
    "\\end{pmatrix}\n",
    "\n",
    "= 0\n",
    "$$\n",
    "\n",
    "Derive the above equation, $f_{33} = 0$"
   ]
  },
  {
   "cell_type": "markdown",
   "metadata": {
    "deletable": false,
    "editable": false,
    "nbgrader": {
     "cell_type": "markdown",
     "checksum": "e534a02fe47c25b7e47298c7648e1c17",
     "grade": false,
     "grade_id": "cell-fc866101ec15f385",
     "locked": true,
     "schema_version": 3,
     "solution": false,
     "task": false
    }
   },
   "source": [
    "## Q1.2\n",
    "Consider the case of two cameras viewing an object such that the second camera differs from the first by a pure translation that is parallel to the $x$-axis. Show that the epipolar lines in the two cameras are also parallel to the $x$-axis. Backup your argument with relevant equations.\n"
   ]
  },
  {
   "cell_type": "markdown",
   "metadata": {
    "deletable": false,
    "nbgrader": {
     "cell_type": "markdown",
     "checksum": "7e10bc4946beab4d0d572bf50cba41a3",
     "grade": true,
     "grade_id": "cell-d618bdb98a0d5f94",
     "locked": false,
     "points": 5,
     "schema_version": 3,
     "solution": true,
     "task": false
    }
   },
   "source": [
    "Since the translation is parallel to the x-axis, we can derive the translation matrix as,\n",
    "\n",
    "$$\n",
    "t =\n",
    "\\begin{pmatrix}\n",
    "t_x \\\\\n",
    "0 \\\\\n",
    "0 \\\\\n",
    "\\end{pmatrix}\n",
    "$$\n",
    "\n",
    "And the cross product matrix can be written as,\n",
    "\n",
    "$$\n",
    "t_x = \n",
    "\\begin{pmatrix}\n",
    "0 & 0 & 0 \\\\\n",
    "0 & 0 & -t_x \\\\\n",
    "0 & t_x & 0 \\\\\n",
    "\\end{pmatrix}\n",
    "$$\n",
    "\n",
    "And the rotation matrix as,\n",
    "\n",
    "$$\n",
    "R = \n",
    "\\begin{pmatrix}\n",
    "1 & 0 & 0 \\\\\n",
    "0 & 1 & 0 \\\\\n",
    "0 & 0 & 1 \\\\\n",
    "\\end{pmatrix}\n",
    "$$\n",
    "\n",
    "since it is a pure rotation.\n",
    "\n",
    "Thus, we have $E = t_x R = t_x$.\n",
    "\n",
    "Therefore, the epipolar lines can be derived as,\n",
    "\n",
    "$$\n",
    "l_1^T = \n",
    "\\begin{pmatrix}\n",
    "x_2 & y_2 & 1\n",
    "\\end{pmatrix}\n",
    "\n",
    "\\begin{pmatrix}\n",
    "0 & 0 & 0 \\\\\n",
    "0 & 0 & -t_x \\\\\n",
    "0 & t_x & 0 \\\\\n",
    "\\end{pmatrix}\n",
    "\n",
    "=\n",
    "\n",
    "\\begin{pmatrix}\n",
    "0 & t_x & -t_x y_2\n",
    "\\end{pmatrix}\n",
    "$$\n",
    "\n",
    "$$\n",
    "l_2^T = \n",
    "\\begin{pmatrix}\n",
    "x_1 & y_1 & 1\n",
    "\\end{pmatrix}\n",
    "\n",
    "\\begin{pmatrix}\n",
    "0 & 0 & 0 \\\\\n",
    "0 & 0 & -t_x \\\\\n",
    "0 & t_x & 0 \\\\\n",
    "\\end{pmatrix}\n",
    "\n",
    "=\n",
    "\n",
    "\\begin{pmatrix}\n",
    "0 & t_x & -t_x y_1\n",
    "\\end{pmatrix}\n",
    "$$\n",
    "\n",
    "Thus, the two epipolar lines are parallel to the x axis."
   ]
  },
  {
   "cell_type": "markdown",
   "metadata": {
    "deletable": false,
    "editable": false,
    "nbgrader": {
     "cell_type": "markdown",
     "checksum": "489ca170dd31079e5389db09533ce11f",
     "grade": false,
     "grade_id": "cell-9d505035dba56563",
     "locked": true,
     "schema_version": 3,
     "solution": false,
     "task": false
    }
   },
   "source": [
    "## Q1.3\n",
    "Suppose we have an inertial sensor which gives us the accurate extrinsics $\\mathbf{R}_i$ and $\\textbf{t}_i$ (see Figure 2), the rotation matrix and translation vector of the robot at time $i$. What will be the effective rotation ($\\textbf{R}_{rel}$) and translation ($\\textbf{t}_{rel}$) between two frames at different time stamps? Suppose the camera intrinsics ($\\textbf{K}$) are known, express the essential matrix ($\\textbf{E}$) and the fundamental matrix ($\\textbf{F}$) in terms of $\\textbf{K}$, $\\textbf{R}_{rel}$ and $\\textbf{t}_{rel}$.\n",
    "\n",
    "<img align=\"center\" src=\"images/F_E.png\" width=\"500\">\n",
    "<center> <figcaption align=\"center\"><b>Figure 2. Figure for Q1.3. $C1$ and $C2$ are the optical centers. The rotation and the translation is obtained using inertial sensors. $\\textbf{R}_{rel}$ and $\\textbf{t}_{rel}$ are the relative rotation and translation between two frames.</b></figcaption> </center>"
   ]
  },
  {
   "cell_type": "markdown",
   "metadata": {
    "deletable": false,
    "nbgrader": {
     "cell_type": "markdown",
     "checksum": "30b8549ddf70118b77ef896d549b9ad1",
     "grade": true,
     "grade_id": "cell-95b51fa815c97b28",
     "locked": false,
     "points": 5,
     "schema_version": 3,
     "solution": true,
     "task": false
    }
   },
   "source": [
    "Assume the point in the real world is p,\n",
    "\n",
    "then at time 1 and time 2, the corresponding points will be,\n",
    "\n",
    "$p_1 = R_1 p + t_1$,\n",
    "\n",
    "$p_2 = R_2 p + t_2$.\n",
    "\n",
    "Therefore, we have,\n",
    "\n",
    "$p = R_1^{-1} (p_1 - t_1)$,\n",
    "\n",
    "$p_2 = R_2 R_1^{-1} (p_1 - t_1) + t_2$.\n",
    "\n",
    "Derive the above euqation, \n",
    "\n",
    "$R_{rel} = R_2 R_1^{-1}$,\n",
    "\n",
    "$t_{rel} = -R_2 R_1^{-1} t_1 + t_2$.\n",
    "\n",
    "Thus,\n",
    "\n",
    "$E = t_{rel} R_{rel}$\n",
    "\n",
    "$F = (K^{-1})^T E K^{-1} = (K^{-1})^T t_{rel} R_{rel} K^{-1}$"
   ]
  },
  {
   "cell_type": "markdown",
   "metadata": {
    "deletable": false,
    "editable": false,
    "nbgrader": {
     "cell_type": "markdown",
     "checksum": "1493d0ead7cc2a9bfbdcfb9b3014afa8",
     "grade": false,
     "grade_id": "cell-18e27a9a54289ed0",
     "locked": true,
     "schema_version": 3,
     "solution": false,
     "task": false
    }
   },
   "source": [
    "## Q1.4\n",
    "\n",
    "Suppose that a camera views an object and its reflection in a plane mirror. Show that this situation is equivalent to having two images of the object which are related by a skew-symmetric fundamental matrix. You may assume that the object is flat, meaning that all points on the object are of equal distance to the mirror (**Hint:** draw the relevant vectors to understand the relationship between the camera, the object, and its reflected image.)\n",
    "\n",
    "\n",
    "\n"
   ]
  },
  {
   "cell_type": "markdown",
   "metadata": {
    "deletable": false,
    "nbgrader": {
     "cell_type": "markdown",
     "checksum": "f2e53ba2c33fdd08eee26ab9d6b9322a",
     "grade": true,
     "grade_id": "cell-d5728e037f384ded",
     "locked": false,
     "points": 10,
     "schema_version": 3,
     "solution": true,
     "task": false
    }
   },
   "source": [
    "Assume the point in the real world is p and the point in the mirror is p'.\n",
    "\n",
    "Assume the coordinates on image 1 and image 2 of point p and point p' are x1, x2, x'1, x'2 respectively.\n",
    "\n",
    "Then we have, \n",
    "\n",
    "$x_2^T F x_1 = 0$,\n",
    "\n",
    "$x_1^T F^T x_2 = 0$.\n",
    "\n",
    "Since camera 2 is a reflection of camera 1, $M_2 = T M_1$, where $T^T T = I$,\n",
    "\n",
    "Therefore,\n",
    "\n",
    "$x_1 = K M_1 p$,\n",
    "\n",
    "$x_2 = K T M_1 p$.\n",
    "\n",
    "From equation 1 and 2,\n",
    "\n",
    "$x_2^T F x_1 + x_1^T F^T x_2 = 0$,\n",
    "\n",
    "$p^T M_1^T T^T K^T F K M_1 p + p^T M_1^T K^T F^T K T M_1 p = 0$,\n",
    "\n",
    "Derive the above equation,\n",
    "\n",
    "$K^T (F + F^T) K = 0$,\n",
    "\n",
    "$F + F^T = 0$.\n",
    "\n",
    "Thus, the fundamental matrix is a skew-symmetric matrix."
   ]
  },
  {
   "cell_type": "markdown",
   "metadata": {
    "deletable": false,
    "editable": false,
    "nbgrader": {
     "cell_type": "markdown",
     "checksum": "4a79836003d68698b32bff3fb16e553a",
     "grade": false,
     "grade_id": "cell-dbed38f544a88ed5",
     "locked": true,
     "schema_version": 3,
     "solution": false,
     "task": false
    }
   },
   "source": [
    "# Coding Questions (30 pt)"
   ]
  },
  {
   "cell_type": "markdown",
   "metadata": {
    "deletable": false,
    "nbgrader": {
     "cell_type": "markdown",
     "checksum": "f15ddd7b79f422417b55e7cc89e39794",
     "grade": true,
     "grade_id": "cell-5a62694e7d76b858",
     "locked": false,
     "points": 2,
     "schema_version": 3,
     "solution": true,
     "task": false
    }
   },
   "source": [
    "### Q1.1: The Eight Point Algorithm\n",
    "\n",
    "<span style='color:red'>**Output:**</span>\n",
    "\n",
    "    F = \n",
    "\n",
    "    [[-0.      0.     -0.2519]\n",
    "\n",
    "     [ 0.     -0.      0.0026]\n",
    "\n",
    "     [ 0.2422 -0.0068  1.    ]]\n",
    " \n",
    "    Error: 0.39895034989908706\n",
    "\n",
    "<img src=\"images/Q1_1.png\">"
   ]
  },
  {
   "cell_type": "markdown",
   "metadata": {
    "deletable": false,
    "nbgrader": {
     "cell_type": "markdown",
     "checksum": "9b3fb684b89aefccec51c2008fd0eaca",
     "grade": true,
     "grade_id": "cell-fa25f5e12e09cf01",
     "locked": false,
     "points": 5,
     "schema_version": 3,
     "solution": true,
     "task": false
    }
   },
   "source": [
    "### Q1.2: The Seven Point Algorithm\n",
    "<span style='color:red'>**Output:**</span> \n",
    "\n",
    "    F = \n",
    "\n",
    "    [[ 0.      0.     -0.201 ]\n",
    "\n",
    "     [ 0.     -0.      0.0007]\n",
    "\n",
    "     [ 0.1922 -0.0042  1.    ]]\n",
    "\n",
    "    Error: 0.5668901239525356\n",
    "\n",
    "<img src=\"images/Q1_2.png\">"
   ]
  },
  {
   "cell_type": "markdown",
   "metadata": {
    "deletable": false,
    "nbgrader": {
     "cell_type": "markdown",
     "checksum": "987a23f38772f7e51396f83c1e4422a3",
     "grade": true,
     "grade_id": "cell-0901094d90d5ee50",
     "locked": false,
     "points": 5,
     "schema_version": 3,
     "solution": true,
     "task": false
    }
   },
   "source": [
    "### Q2.2 Triangulation and find M2 \n",
    "\n",
    "<span style='color:red'>**Output:**</span>\n",
    "\n",
    "$$\n",
    "A = \n",
    "\\begin{pmatrix}\n",
    "c_{11}^1-c_{31}^1 x_{i1} & c_{12}^1-c_{32}^1 x_{i1} & c_{13}^1-c_{33}^1 x_{i1} & c_{14}^1-c_{34}^1 x_{i1} \\\\\n",
    "c_{11}^1-c_{31}^1 y_{i1} & c_{22}^1-c_{32}^1 y_{i1} & c_{23}^1-c_{33}^1 y_{i1} & c_{24}^1-c_{34}^1 y_{i1} \\\\\n",
    "c_{11}^2-c_{31}^2 x_{i1} & c_{12}^2-c_{32}^2 x_{i1} & c_{13}^2-c_{33}^2 x_{i1} & c_{14}^2-c_{34}^2 x_{i1} \\\\\n",
    "c_{11}^2-c_{31}^2 y_{i1} & c_{22}^2-c_{32}^2 y_{i1} & c_{23}^2-c_{33}^2 y_{i1} & c_{24}^2-c_{34}^2 y_{i1} \\\\\n",
    "\\end{pmatrix}\n",
    "$$"
   ]
  },
  {
   "cell_type": "markdown",
   "metadata": {
    "deletable": false,
    "nbgrader": {
     "cell_type": "markdown",
     "checksum": "67c45385147d9268ff59e77d9bde9e5e",
     "grade": true,
     "grade_id": "cell-12709527c18b3146",
     "locked": false,
     "points": 5,
     "schema_version": 3,
     "solution": true,
     "task": false
    }
   },
   "source": [
    "### Q2.3 Epipolar Correspondence\n",
    "\n",
    "<span style='color:red'>**Output:**</span>\n",
    "\n",
    "<img src=\"images/Q2_3.png\">"
   ]
  },
  {
   "cell_type": "markdown",
   "metadata": {
    "deletable": false,
    "nbgrader": {
     "cell_type": "markdown",
     "checksum": "4c4001adbf37eb9dcc25149c1e08f3ab",
     "grade": true,
     "grade_id": "cell-5ef8e705d153cda0",
     "locked": false,
     "points": 3,
     "schema_version": 3,
     "solution": true,
     "task": false
    }
   },
   "source": [
    "### Q2.4 3D Visualization\n",
    "\n",
    "<span style='color:red'>**Output:**</span> \n",
    "\n",
    "<img src=\"images/Q2_4_1.png\">\n",
    "\n",
    "<img src=\"images/Q2_4_2.png\">\n",
    "\n",
    "<img src=\"images/Q2_4_3.png\">"
   ]
  },
  {
   "cell_type": "markdown",
   "metadata": {
    "deletable": false,
    "nbgrader": {
     "cell_type": "markdown",
     "checksum": "7779b124a0b636e99859c8c9384b4b0b",
     "grade": true,
     "grade_id": "cell-776fd721d9eadbac",
     "locked": false,
     "points": 10,
     "schema_version": 3,
     "solution": true,
     "task": false
    }
   },
   "source": [
    "### Q3.3 Bundle Adjustment\n",
    "\n",
    "<span style='color:red'>**Output:**</span>\n",
    "\n",
    "<img src=\"images/Q2_5.png\">\n",
    "\n",
    "Best Error 1574.643381017135"
   ]
  }
 ],
 "metadata": {
  "interpreter": {
   "hash": "4fdb81c697d336654948cea51248952f7cc5dd7420718d1ad5c944155ffcba4f"
  },
  "kernelspec": {
   "display_name": "Python 3",
   "language": "python",
   "name": "python3"
  },
  "language_info": {
   "codemirror_mode": {
    "name": "ipython",
    "version": 3
   },
   "file_extension": ".py",
   "mimetype": "text/x-python",
   "name": "python",
   "nbconvert_exporter": "python",
   "pygments_lexer": "ipython3",
   "version": "3.8.8"
  },
  "toc": {
   "base_numbering": 1,
   "nav_menu": {},
   "number_sections": false,
   "sideBar": true,
   "skip_h1_title": false,
   "title_cell": "Table of Contents",
   "title_sidebar": "Contents",
   "toc_cell": false,
   "toc_position": {},
   "toc_section_display": true,
   "toc_window_display": true
  }
 },
 "nbformat": 4,
 "nbformat_minor": 2
}
